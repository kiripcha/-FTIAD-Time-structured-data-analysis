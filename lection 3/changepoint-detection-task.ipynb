{
 "cells": [
  {
   "cell_type": "code",
   "execution_count": 1,
   "metadata": {},
   "outputs": [
    {
     "name": "stdout",
     "output_type": "stream",
     "text": [
      "Populating the interactive namespace from numpy and matplotlib\n"
     ]
    }
   ],
   "source": [
    "%pylab inline"
   ]
  },
  {
   "cell_type": "markdown",
   "metadata": {},
   "source": [
    "# Последовательное обнаружение разладок временных рядов"
   ]
  },
  {
   "cell_type": "markdown",
   "metadata": {},
   "source": [
    "1. Всюду в рассматриваемых задачах\n",
    "имеется две гипотезы $\\mathbb{H}_0$ и $\\mathbb{H}_1$ \n",
    "(иногда они обозначаются $\\mathbb{H}_{\\infty}$ и\n",
    "$\\mathbb{H}_0$, соответственно), причем каждая \n",
    "из гипотез делает явные предположения о распределении\n",
    "или его параметрах.\n",
    "\\item Критерий Неймана-Пирсона предписывает\n",
    "принимать гипотезу исходя из значения величины\n",
    "$$\n",
    "L_n(X_1, \\ldots, X_n) = \\frac{f_0(X_1, \\ldots, X_n)}{f_{\\infty}(X_1, \\ldots, X_n)},\n",
    "$$\n",
    "называемой отношением правдоподобия.\n",
    "А именно, пусть $\\varphi(X_1, \\ldots, X_n)$~-- \n",
    "рандомизированное решающее правило, значение\n",
    "которого равно вероятности принять \n",
    "гипотезу $\\mathbb{H}_1$. Тогда найдутся такие\n",
    "константы $\\lambda_a$ и $h_a$, что \n",
    "$$\n",
    "\\varphi(X_1, \\ldots, X_n) = \n",
    "\\begin{cases}\n",
    "    1, & L_n(X_1, \\ldots, X_n) > h_a, \\\\\n",
    "    \\lambda_a, & L_n(X_1, \\ldots, X_n) = h_a, \\\\\n",
    "    0, & L_n(X_1, \\ldots, X_n) < h_a,\n",
    "\\end{cases}\n",
    "$$\n",
    "является наиболее мощным \n",
    "(т.е. с наименьшей вероятностью пропуска цели \n",
    "или ошибки 2 рода $\\beta(\\varphi)$) тестом \n",
    "среди тестов, вероятность ложной\n",
    "тревоги $\\alpha(\\varphi)$\n",
    "(ошибки 1 рода) которых не выше $a$.\n",
    "\n",
    "2. Разладкой процесса $X_t$\n",
    "называется ситуация, в которой траектория\n",
    "процесса генерируется двумя (или \n",
    "в общем случае несколькими) независимыми\n",
    "вероятностными мерами $\\mathrm{P}_{\\infty}$\n",
    "и $\\mathrm{P}_{0}$, причем наблюдения имеют структуру\n",
    "$$\n",
    "X_n = \n",
    "\\begin{cases}\n",
    "    X^{\\infty}_n, & \\text{если } 1 \\leqslant n < \\theta, \\\\\n",
    "    X^{0}_n, & \\text{если } n \\geqslant \\theta,\n",
    "\\end{cases}\n",
    "$$\n",
    "где $X^{\\infty}_t$ --- \n",
    "процесс, соответствующий мере $\\mathrm{P}_{\\infty}$,\n",
    "и $X^{0}_t$ ---\n",
    "процесс, соответствующий мере $\\mathrm{P}_{0}$.\n",
    "Момент $\\theta \\in [0, \\infty]$\n",
    "называется моментом разладки, причем\n",
    "ситуация $\\theta = 0$ соответствует тому, что \n",
    "с самого начала идут наблюдения от \n",
    "_разлаженного_ процесса $X^{0}$,\n",
    "а ситуация $\\theta = \\infty$ заключается в том,\n",
    "что разладка не появляется никогда.\n",
    "Таким образом, траектория процесса $X$ выглядит\n",
    "следующим образом:\n",
    "$$\n",
    "\\underbrace{X^{\\infty}_1, X^{\\infty}_2, \\ldots, \n",
    "X^{\\infty}_{\\theta - 1}}\n",
    "    _{\\text{мера } \\mathrm{P}^{\\infty}},\n",
    "\\underbrace{X^{0}_{\\theta}, X^{0}_{\\theta + 1}, \\ldots}\n",
    "    _{\\text{мера } \\mathrm{P}^{0}}\n",
    "$$\n",
    "\n",
    "3. **Статистика кумулятивных сумм.**\n",
    "\n",
    " - Вводятся статистики $\\gamma_t$ \n",
    " и $T_t$ \n",
    "$$\n",
    "\\gamma_n = \\sup\\limits_{\\theta \\geqslant 0} \\frac{f_{\\theta}(X_1, \\ldots, X_n)}{f_{\\infty}(X_1, \\ldots, X_n)}\n",
    "\\qquad \\mbox{и} \\qquad T_n = \\log \\gamma_n\n",
    "$$\n",
    "\n",
    " - Если случайные величины\n",
    "$X_1, \\ldots, X_n$ независимы, то\n",
    "$$\n",
    "\\gamma_n = \\max\\Big\\{1, \\max\\limits_{1 \\leqslant \\theta \\leqslant n} \\prod\\limits_{k=\\theta}^{n}\n",
    "    \\frac{f_{0}(X_k)}{f_{\\infty}(X_k)} \\Big\\}\n",
    "$$\n",
    "$$\n",
    "T_n = \\max\\Big\\{0, \\max\\limits_{1 \\leqslant \\theta \\leqslant n} \\sum\\limits_{k=\\theta}^{n}\n",
    "    \\log \\frac{f_{0}(X_k)}{f_{\\infty}(X_k)} \\Big\\} = \n",
    "    \\max\\Big\\{0, \\max\\limits_{1 \\leqslant \\theta \\leqslant n} \\sum\\limits_{k=\\theta}^{n}\n",
    "    \\zeta_k \\Big\\}\n",
    "$$\n",
    "\n",
    " - Статистика $T_n$ обладает свойством $T_n = \\max (0, T_{n-1} + \\zeta_n)$\n",
    "и называется статистикой кумулятивных сумм (CUmulative SUMs, CUSUM).\n",
    "\n",
    " - Момент остановки\n",
    "$$\n",
    "\\tau_{\\mathrm{CUSUM}} = \\inf \\{n \\geqslant 0: T_n \\geqslant B\\},\n",
    "$$\n",
    "построенный по статистике кумулятивных сумм,\n",
    "оптимален (т.\\,е.~обладает наименьшей задержкой\n",
    "в обнаружении разладки) в~классе\n",
    "$$\n",
    "\\mathcal{M}_T = \\{\\tau : \n",
    "    {\\textstyle \\mathrm{E}_{\\infty}} \\tau \\geqslant T\\}\n",
    "$$\n",
    "тех моментов остановки, для которых среднее время\n",
    "до~ложной тревоги не меньше $T$.\n",
    "\n",
    "4. **Статистика Ширяева-Робертса.**\n",
    "\n",
    " - Вводится статистика\n",
    "$$\n",
    "R_n = \\sum\\limits_{\\theta = 1}^{n} \\frac{f_{\\theta}(X_1, \\ldots, X_n)}{f_{\\infty}(X_1, \\ldots, X_n)}\n",
    "$$\n",
    "\n",
    " - Если случайные величины $X_1, \\ldots, X_n$ независимы, то\n",
    "$$\n",
    "R_n = \\sum\\limits_{\\theta = 1}^{n} \\prod\\limits_{k=\\theta}^{n}\n",
    "    \\frac{f_{0}(X_k)}{f_{\\infty}(X_k)} =\n",
    "        \\sum\\limits_{\\theta = 1}^{n} \\prod\\limits_{k=\\theta}^{n}\n",
    "    l_k.\n",
    "$$ \n",
    "\n",
    " - Статистика $R_n$ обладает свойством $R_n = (1 + R_{n-1}) l_k$ и~называется статистикой Ширяева-Робертса (Shiryaev-Roberts, SR).\n",
    " \n",
    " - Момент остановки \n",
    "$$\n",
    "\\tau_{\\mathrm{SR}} = \\inf \\{n \\geqslant 0: R_n \\geqslant B\\},\n",
    "$$\n",
    "построенный по статистике Ширяева-Робертса,\n",
    "оптимален (т.\\,е.~обладает наименьшей задержкой\n",
    "в обнаружении разладки) в~классе\n",
    "$$\n",
    "\\mathcal{M}_T = \\{\\tau : \n",
    "    {\\textstyle \\mathrm{E}_{\\infty}} \\tau \\geqslant T\\}\n",
    "$$\n",
    "тех моментов остановки, для которых среднее время\n",
    "до~ложной тревоги не меньше $T$.\n"
   ]
  },
  {
   "cell_type": "markdown",
   "metadata": {},
   "source": [
    "## Часть 1. Временные ряды с известными характеристиками"
   ]
  },
  {
   "cell_type": "markdown",
   "metadata": {},
   "source": [
    "В этой части задания вы исследуете временные ряды с разладками, модель которых вам полностью известна.\n",
    "\n",
    "Данные $X_1, \\ldots, X_n$ порождены нормальным $\\mathcal{N}(0, 1)$ распределением до момента появления разладки, и нормальным $\\mathcal{N}(\\mu, 1)$ распределением после момента появления разладки. Момент разладки $\\theta = 100$ -- неизвестная величина."
   ]
  },
  {
   "cell_type": "code",
   "execution_count": 2,
   "metadata": {},
   "outputs": [
    {
     "data": {
      "text/plain": [
       "[<matplotlib.lines.Line2D at 0x103b6ba90>]"
      ]
     },
     "execution_count": 2,
     "metadata": {},
     "output_type": "execute_result"
    },
    {
     "data": {
      "image/png": "[encoded data removed]",
      "text/plain": [
       "<matplotlib.figure.Figure at 0x103afcd50>"
      ]
     },
     "metadata": {},
     "output_type": "display_data"
    }
   ],
   "source": [
    "theta = 100\n",
    "X = np.hstack((\n",
    "    np.random.normal(loc=0, scale=1, size=theta),\n",
    "    np.random.normal(loc=2, scale=1, size=100))\n",
    ")\n",
    "plot(X)"
   ]
  },
  {
   "cell_type": "markdown",
   "metadata": {},
   "source": [
    "Заготовка для класса, реализующего статистику для обнаружения разладки, представлена ниже. Вам необходимо расширять этот класс."
   ]
  },
  {
   "cell_type": "code",
   "execution_count": null,
   "metadata": {},
   "outputs": [],
   "source": [
    "class Stat(object):\n",
    "    def __init__(self, threshold, direction=\"unknown\", init_stat=0.0):\n",
    "        self._direction = str(direction)\n",
    "        self._threshold = float(threshold)\n",
    "        self._stat = float(init_stat)\n",
    "        self._alarm = self._stat / self._threshold\n",
    "    \n",
    "    @classmethod\n",
    "    def from_config(cls, config):\n",
    "        check_empty_config(config)\n",
    "        return cls(threshold=1.0)\n",
    "    \n",
    "    @property\n",
    "    def direction(self):\n",
    "        return self._direction\n",
    "\n",
    "    @property\n",
    "    def stat(self):\n",
    "        return self._stat\n",
    "        \n",
    "    @property\n",
    "    def alarm(self):\n",
    "        return self._alarm\n",
    "        \n",
    "    @property\n",
    "    def threshold(self):\n",
    "        return self._threshold\n",
    "    \n",
    "    @property\n",
    "    def debug_output(self):\n",
    "        return {self.__class__.__name__: self.alarm}\n",
    "        \n",
    "    def update(self, **kwargs):\n",
    "        # Statistics may use any of the following kwargs:\n",
    "        #   ts - timestamp for the value\n",
    "        #   value - original value\n",
    "        #   mean - current estimated mean\n",
    "        #   std - current estimated std\n",
    "        #   adjusted_value - usually (value - mean) / std\n",
    "        # Statistics call this after updating '_stat'\n",
    "        \n",
    "        # Extract relevant kwargs\n",
    "        value = kwargs.get('value', 0.0)\n",
    "        mean = kwargs.get('mean', 0.0)\n",
    "        std = kwargs.get('std', 1.0)\n",
    "        adjusted_value = kwargs.get('adjusted_value', (value - mean) / max(std, 1e-6))\n",
    "        \n",
    "        if self._direction == \"up\":\n",
    "            self._stat = max(0, self._stat + adjusted_value)\n",
    "        elif self._direction == \"down\":\n",
    "            self._stat = min(0, self._stat + adjusted_value)\n",
    "        else:  # two-sided\n",
    "            self._stat = abs(self._stat + adjusted_value)\n",
    "    \n",
    "        self._alarm = self._stat / self._threshold"
   ]
  },
  {
   "cell_type": "markdown",
   "metadata": {},
   "source": [
    "**Задание 1.** Вычислите отношение правдоподобия для элемента выборки $X_i$. Реализуйте процедуру подсчета отношения правдоподобия для этого элемента выборки в предположении, что данные нормальны."
   ]
  },
  {
   "cell_type": "markdown",
   "metadata": {},
   "source": [
    "Для вычисления отношения правдоподобия элемента выборки $X_i$ в предположении, что данные имеют нормальное распределение, необходимо определить две гипотезы и вычислить отношение их правдоподобий. Предположим, что мы тестируем две гипотезы:\n",
    "\n",
    "- **Нулевая гипотеза $H_0$**: $X_i \\sim \\mathcal{N}(\\mu_0, \\sigma^2)$, где $\\mu_0$ — известное среднее, $\\sigma^2$ — известная дисперсия.\n",
    "- **Альтернативная гипотеза $H_1$**: $X_i \\sim \\mathcal{N}(\\mu_1, \\sigma^2)$, где $\\mu_1$ — другое известное среднее, а дисперсия $\\sigma^2$ та же.\n",
    "\n",
    "Отношение правдоподобия для элемента $X_i$ определяется как:\n",
    "\n",
    "$$\n",
    "\\Lambda(X_i) = \\frac{L(X_i | H_1)}{L(X_i | H_0)} = \\frac{f(X_i | \\mu_1, \\sigma^2)}{f(X_i | \\mu_0, \\sigma^2)},\n",
    "$$\n",
    "\n",
    "где $f(x | \\mu, \\sigma^2)$ — плотность нормального распределения:\n",
    "\n",
    "$$\n",
    "f(x | \\mu, \\sigma^2) = \\frac{1}{\\sqrt{2\\pi\\sigma^2}} \\exp\\left(-\\frac{(x - \\mu)^2}{2\\sigma^2}\\right).\n",
    "$$\n",
    "\n",
    "Для $X_i$, отношение правдоподобия:\n",
    "\n",
    "$$\n",
    "\\Lambda(X_i) = \\frac{\\frac{1}{\\sqrt{2\\pi\\sigma^2}} \\exp\\left(-\\frac{(X_i - \\mu_1)^2}{2\\sigma^2}\\right)}{\\frac{1}{\\sqrt{2\\pi\\sigma^2}} \\exp\\left(-\\frac{(X_i - \\mu_0)^2}{2\\sigma^2}\\right)}.\n",
    "$$\n",
    "\n",
    "Упрощаем:\n",
    "\n",
    "$$\n",
    "\\Lambda(X_i) = \\frac{\\exp\\left(-\\frac{(X_i - \\mu_1)^2}{2\\sigma^2}\\right)}{\\exp\\left(-\\frac{(X_i - \\mu_0)^2}{2\\sigma^2}\\right)} = \\exp\\left(\\frac{(X_i - \\mu_0)^2 - (X_i - \\mu_1)^2}{2\\sigma^2}\\right).\n",
    "$$\n",
    "\n",
    "Разложим разность квадратов:\n",
    "\n",
    "$$\n",
    "(X_i - \\mu_0)^2 - (X_i - \\mu_1)^2 = (X_i - \\mu_0 - X_i + \\mu_1)(X_i - \\mu_0 + X_i - \\mu_1) = (\\mu_1 - \\mu_0)(2X_i - \\mu_0 - \\mu_1).\n",
    "$$\n",
    "\n",
    "Тогда:\n",
    "\n",
    "$$\n",
    "\\Lambda(X_i) = \\exp\\left(\\frac{(\\mu_1 - \\mu_0)(2X_i - \\mu_0 - \\mu_1)}{2\\sigma^2}\\right).\n",
    "$$\n",
    "\n",
    "Для реализации предположим, что $\\mu_0$, $\\mu_1$, и $\\sigma^2$ известны (например, $\\mu_0 = 0$, $\\mu_1 = 1$, $\\sigma^2 = 1$). Код будет вычислять $\\Lambda(X_i)$ для заданного $X_i$."
   ]
  },
  {
   "cell_type": "code",
   "execution_count": null,
   "metadata": {},
   "outputs": [],
   "source": [
    "def likelihood_ratio(x, mu_0=0.0, mu_1=1.0, sigma=1.0):\n",
    "    \"\"\"\n",
    "    Вычисляет отношение правдоподобия для элемента выборки x.\n",
    "    \n",
    "    Параметры:\n",
    "    x (float): Значение элемента выборки.\n",
    "    mu_0 (float): Среднее под H0 (по умолчанию 0.0).\n",
    "    mu_1 (float): Среднее под H1 (по умолчанию 1.0).\n",
    "    sigma (float): Стандартное отклонение (по умолчанию 1.0).\n",
    "    \n",
    "    Возвращает:\n",
    "    float: Отношение правдоподобия Lambda(x).\n",
    "    \"\"\"\n",
    "    exponent = ((mu_1 - mu_0) * (2 * x - mu_0 - mu_1)) / (2 * sigma**2)\n",
    "    return np.exp(exponent)"
   ]
  },
  {
   "cell_type": "code",
   "execution_count": null,
   "metadata": {},
   "outputs": [],
   "source": [
    "for x in X:\n",
    "    lr = likelihood_ratio(x)\n",
    "    print(f\"Для x = {x:.2f}, отношение правдоподобия = {lr:.4f}\")"
   ]
  },
  {
   "cell_type": "markdown",
   "metadata": {},
   "source": [
    "**Задание 2.** Постройте статистику кумулятивных сумм для обнаружения разладки в среднем значении процесса $X_n$. В какой момент $\\tau$ следует подавать сигнал тревоги об обнаружении разладки?"
   ]
  },
  {
   "cell_type": "code",
   "execution_count": null,
   "metadata": {},
   "outputs": [],
   "source": [
    "def cusum(data, mu_0=0.0, mu_1=1.0, h=5.0):\n",
    "    \"\"\"\n",
    "    Выполняет двухсторонний CUSUM для обнаружения разладки в среднем.\n",
    "    \n",
    "    Параметры:\n",
    "    data (np.ndarray): Входные данные.\n",
    "    mu_0 (float): Среднее до разладки.\n",
    "    mu_1 (float): Среднее после разладки.\n",
    "    h (float): Порог для сигнала тревоги.\n",
    "    \n",
    "    Возвращает:\n",
    "    tau (int or None): Момент разладки (индекс) или None, если не обнаружена.\n",
    "    s_plus (np.ndarray): Статистика CUSUM для положительного сдвига.\n",
    "    s_minus (np.ndarray): Статистика CUSUM для отрицательного сдвига.\n",
    "    \"\"\"\n",
    "    n = len(data)\n",
    "    s_plus = np.zeros(n)\n",
    "    s_minus = np.zeros(n)\n",
    "    k = (mu_1 - mu_0) / 2  # Референсное значение\n",
    "    \n",
    "    for i in range(1, n):\n",
    "        s_plus[i] = max(0, s_plus[i-1] + (data[i] - mu_0 - k))\n",
    "        s_minus[i] = min(0, s_minus[i-1] + (data[i] - mu_0 + k))\n",
    "        \n",
    "        # Проверка на превышение порога\n",
    "        if s_plus[i] >= h or -s_minus[i] >= h:\n",
    "            return i, s_plus, s_minus\n",
    "    \n",
    "    return None, s_plus, s_minus"
   ]
  },
  {
   "cell_type": "code",
   "execution_count": null,
   "metadata": {},
   "outputs": [],
   "source": [
    "# Применение CUSUM\n",
    "mu_0, mu_1, sigma = 0.0, 1.0, 1.0\n",
    "h = 5.0\n",
    "tau, s_plus, s_minus = cusum(X, mu_0=mu_0, mu_1=mu_1, h=h)\n",
    "timestamps = np.arange(len(X)-theta)\n",
    "\n",
    "# Визуализация\n",
    "plt.figure(figsize=(12, 8))"
   ]
  },
  {
   "cell_type": "code",
   "execution_count": null,
   "metadata": {},
   "outputs": [],
   "source": [
    "plt.subplot(2, 1, 1)\n",
    "plt.plot(timestamps, X, label=\"Данные\")\n",
    "if tau is not None:\n",
    "    plt.axvline(x=tau, color='g', linestyle='--', label=f\"Обнаружена разладка (τ={tau})\")\n",
    "plt.axvline(x=theta, color='r', linestyle='--', label=f\"Истинная разладка (θ={theta})\")\n",
    "plt.xlabel(\"Время\")\n",
    "plt.ylabel(\"Значение\")\n",
    "plt.title(\"Синтетические данные с разладкой\")\n",
    "plt.legend()"
   ]
  },
  {
   "cell_type": "code",
   "execution_count": null,
   "metadata": {},
   "outputs": [],
   "source": [
    "# ПСтатистики CUSUM\n",
    "plt.subplot(2, 1, 2)\n",
    "plt.plot(timestamps, s_plus, label=\"S⁺ (положительный сдвиг)\")\n",
    "plt.plot(timestamps, -s_minus, label=\"−S⁻ (отрицательный сдвиг)\")\n",
    "plt.axhline(y=h, color='k', linestyle='--', label=f\"Порог h={h}\")\n",
    "if tau is not None:\n",
    "    plt.axvline(x=tau, color='g', linestyle='--', label=f\"Обнаружена разладка (τ={tau})\")\n",
    "plt.xlabel(\"Время\")\n",
    "plt.ylabel(\"Статистика CUSUM\")\n",
    "plt.title(\"Статистики CUSUM\")\n",
    "plt.legend()\n",
    "plt.tight_layout()"
   ]
  },
  {
   "cell_type": "code",
   "execution_count": null,
   "metadata": {},
   "outputs": [],
   "source": [
    "if tau is not None:\n",
    "    print(f\"Сигнал тревоги подан в момент τ = {tau}\")\n",
    "else:\n",
    "    print(\"Разладка не обнаружена.\")"
   ]
  },
  {
   "cell_type": "markdown",
   "metadata": {},
   "source": [
    "**Задание 3.** Проведите моделирование Монте-Карло для подсчета средней величины задержки в обнаружении разладки для заданных данных. \n",
    "\n",
    "_Подсказка:_ сгенерируйте $N$ независимых выборок, для каждой из них вычислите значения статистики кумулятивных сумм и момент подачи тревоги $\\tau$. Полученные _задержки_ $\\tau - \\theta$ усредните."
   ]
  },
  {
   "cell_type": "code",
   "execution_count": null,
   "metadata": {},
   "outputs": [],
   "source": [
    "def cusum(data, mu_0=0.0, mu_1=1.0, h=5.0):\n",
    "    \"\"\"\n",
    "    Выполняет двухсторонний CUSUM для обнаружения разладки в среднем.\n",
    "    \n",
    "    Параметры:\n",
    "    data (np.ndarray): Входные данные.\n",
    "    mu_0 (float): Среднее до разладки.\n",
    "    mu_1 (float): Среднее после разладки.\n",
    "    h (float): Порог для сигнала тревоги.\n",
    "    \n",
    "    Возвращает:\n",
    "    tau (int or None): Момент разладки (индекс) или None, если не обнаружена.\n",
    "    \"\"\"\n",
    "    n = len(data)\n",
    "    s_plus = np.zeros(n)\n",
    "    s_minus = np.zeros(n)\n",
    "    k = (mu_1 - mu_0) / 2  # Референсное значение\n",
    "    \n",
    "    for i in range(1, n):\n",
    "        s_plus[i] = max(0, s_plus[i-1] + (data[i] - mu_0 - k))\n",
    "        s_minus[i] = min(0, s_minus[i-1] + (data[i] - mu_0 + k))\n",
    "        \n",
    "        if s_plus[i] >= h or -s_minus[i] >= h:\n",
    "            return i\n",
    "    \n",
    "    return None\n",
    "\n",
    "def monte_carlo_delay(n_simulations=1000, n=200, theta=100, mu_0=0.0, mu_1=1.0, sigma=1.0, h=5.0):\n",
    "    \"\"\"\n",
    "    Проводит моделирование Монте-Карло для оценки средней задержки в обнаружении разладки.\n",
    "    \n",
    "    Параметры:\n",
    "    n_simulations (int): Количество выборок.\n",
    "    n (int): Длина каждой выборки.\n",
    "    theta (int): Момент разладки.\n",
    "    mu_0 (float): Среднее до разладки.\n",
    "    mu_1 (float): Среднее после разладки.\n",
    "    sigma (float): Стандартное отклонение.\n",
    "    h (float): Порог CUSUM.\n",
    "    \n",
    "    Возвращает:\n",
    "    delays (np.ndarray): Массив задержек (tau - theta).\n",
    "    mean_delay (float): Средняя задержка.\n",
    "    std_delay (float): Стандартное отклонение задержек.\n",
    "    \"\"\"\n",
    "    delays = []\n",
    "    \n",
    "    for _ in range(n_simulations):\n",
    "        data = np.concatenate([\n",
    "            np.random.normal(mu_0, sigma, theta),\n",
    "            np.random.normal(mu_1, sigma, n - theta)\n",
    "        ])\n",
    "        \n",
    "        tau = cusum(data, mu_0=mu_0, mu_1=mu_1, h=h)\n",
    "        \n",
    "        # Проверка, обнаружена ли разладка и tau >= theta\n",
    "        if tau is not None and tau >= theta:\n",
    "            delay = tau - theta\n",
    "            delays.append(delay)\n",
    "\n",
    "        # # Генерация данных: все из N(mu_1, sigma^2), так как theta = 0\n",
    "        #     np.random.normal(mu_0, sigma, theta),\n",
    "        #     np.random.normal(mu_1, sigma, n - theta)\n",
    "        #     data = np.random.normal(mu_1, sigma, n)\n",
    "        # ])\n",
    "            \n",
    "        #     # Применение CUSUM\n",
    "        #     tau = cusum(data, mu_0=mu_0, mu_1=mu_1, h=h)\n",
    "            \n",
    "        #     # Сохранение задержки (tau), если разладка обнаружена\n",
    "        #     if tau is not None:\n",
    "        #         delays.append(tau)\n",
    "    \n",
    "    delays = np.array(delays)\n",
    "    mean_delay = np.mean(delays) if len(delays) > 0 else np.nan\n",
    "    std_delay = np.std(delays) if len(delays) > 0 else np.nan\n",
    "    \n",
    "    return delays, mean_delay, std_delay"
   ]
  },
  {
   "cell_type": "code",
   "execution_count": null,
   "metadata": {},
   "outputs": [],
   "source": [
    "n_simulations = 1000\n",
    "n = 200\n",
    "theta = 100\n",
    "mu_0 = 0.0\n",
    "mu_1 = 1.0\n",
    "sigma = 1.0\n",
    "h = 5.0\n",
    "\n",
    "np.random.seed(42) \n",
    "delays, mean_delay, std_delay = monte_carlo_delay(n_simulations, n, theta, mu_0, mu_1, sigma, h)\n",
    "print(f\"Количество успешных обнаружений: {len(delays)} из {n_simulations}\")\n",
    "print(f\"Средняя задержка: {mean_delay:.2f}\")\n",
    "print(f\"Стандартное отклонение задержек: {std_delay:.2f}\")\n"
   ]
  },
  {
   "cell_type": "code",
   "execution_count": null,
   "metadata": {},
   "outputs": [],
   "source": [
    "plt.figure(figsize=(10, 6))\n",
    "plt.hist(delays, bins=30, density=True, alpha=0.7, color='blue', label='Распределение задержек')\n",
    "plt.axvline(mean_delay, color='red', linestyle='--', label=f'Средняя задержка = {mean_delay:.2f}')\n",
    "plt.xlabel('Задержка (τ - θ)')\n",
    "plt.ylabel('Плотность')\n",
    "plt.title('Распределение задержек в обнаружении разладки (Монте-Карло)')\n",
    "plt.legend()"
   ]
  },
  {
   "cell_type": "markdown",
   "metadata": {},
   "source": [
    "**Задание 4.** Проведите моделирование Монте-Карло для подсчета зависимости средней величины задержки в обнаружении разладки, которая появляется в момент времени $\\theta = 0$, от значения порога срабатывания $h$. Отобразите полученную зависимость.\n",
    "\n",
    "_Подсказка:_ для нескольких значений порога срабатывания $h$ сгенерируйте $N$ независимых выборок из распределения _с разладкой_ $\\mathrm{P}_{0}$, для каждой из них вычислите значения статистики кумулятивных сумм и момент подачи тревоги $\\tau$. Полученные _задержки_ $\\tau - \\theta$ усредните."
   ]
  },
  {
   "cell_type": "code",
   "execution_count": null,
   "metadata": {},
   "outputs": [],
   "source": [
    "n_simulations = 1000\n",
    "n = 200\n",
    "theta = 0\n",
    "mu_0 = 0.0\n",
    "mu_1 = 1.0\n",
    "sigma = 1.0\n",
    "h_values = [1, 3, 5, 7, 10]\n",
    "\n",
    "_, mean_delays, std_delays = monte_carlo_delay(h_values, n_simulations, n, mu_0, mu_1, sigma)\n",
    "print(\"Зависимость средней задержки от порога h:\")\n",
    "for h, mean_delay, std_delay in zip(h_values, mean_delays, std_delays):\n",
    "    print(f\"h = {h:.1f}: Средняя задержка = {mean_delay:.2f}, Стандартное отклонение = {std_delay:.2f}\")\n"
   ]
  },
  {
   "cell_type": "code",
   "execution_count": null,
   "metadata": {},
   "outputs": [],
   "source": [
    "plt.figure(figsize=(10, 6))\n",
    "plt.plot(h_values, mean_delays, marker='o', linestyle='-', color='blue', label='Средняя задержка')\n",
    "plt.fill_between(h_values, mean_delays - std_delays, mean_delays + std_delays, \n",
    "                 color='blue', alpha=0.2, label='±1 Стандартное отклонение')\n",
    "plt.xlabel('Порог срабатывания h')\n",
    "plt.ylabel('Средняя задержка (τ)')\n",
    "plt.title('Зависимость средней задержки от порога h (Монте-Карло)')\n",
    "plt.grid(True)\n",
    "plt.legend()\n",
    "plt.savefig('delay_vs_threshold.png')\n",
    "plt.close()"
   ]
  },
  {
   "cell_type": "markdown",
   "metadata": {},
   "source": [
    "## Часть 2. Временные ряды с неизвестными характеристиками"
   ]
  },
  {
   "cell_type": "markdown",
   "metadata": {},
   "source": [
    "В этой части задания вам необходимо разработать процедуру обнаружения разладки для данных, распределение которых вам неизвестно. Вам задан набор данных `seminar.train_data`. Процедура чтения реализована для вас."
   ]
  },
  {
   "cell_type": "code",
   "execution_count": 43,
   "metadata": {},
   "outputs": [],
   "source": [
    "from datasets import read_simple_dataset\n",
    "from itertools import izip"
   ]
  },
  {
   "cell_type": "code",
   "execution_count": 44,
   "metadata": {},
   "outputs": [],
   "source": [
    "with open('seminar.train_data') as f:\n",
    "    data, changepoint, targets = read_simple_dataset(f, keep_target=True)"
   ]
  },
  {
   "cell_type": "code",
   "execution_count": 46,
   "metadata": {},
   "outputs": [
    {
     "data": {
      "text/plain": [
       "[<matplotlib.lines.Line2D at 0x1116a5dd0>]"
      ]
     },
     "execution_count": 46,
     "metadata": {},
     "output_type": "execute_result"
    },
    {
     "data": {
      "image/png": "[encoded data removed]",
      "text/plain": [
       "<matplotlib.figure.Figure at 0x1116a5e50>"
      ]
     },
     "metadata": {},
     "output_type": "display_data"
    }
   ],
   "source": [
    "timestamps, values, changepoint = [], [], []\n",
    "for (ts, value), cp_indicator in izip(data[1], targets[1]):\n",
    "    timestamps.append(ts)\n",
    "    values.append(value)\n",
    "    changepoint.append(cp_indicator)\n",
    "plot(timestamps, values)\n",
    "plot(timestamps, changepoint, 'r', linewidth=3)"
   ]
  },
  {
   "cell_type": "markdown",
   "metadata": {},
   "source": [
    "**Задание 1.** Модифицируйте процедуру кумулятивных сумм для случая, когда среднее значение временного ряда после разладки неизвестно."
   ]
  },
  {
   "cell_type": "code",
   "execution_count": null,
   "metadata": {},
   "outputs": [],
   "source": [
    "def modified_cusum(data, mu_0=0.0, sigma=1.0, h=5.0, window_size=20):\n",
    "    \"\"\"\n",
    "    Модифицированный двухсторонний CUSUM для неизвестного среднего после разладки.\n",
    "    \n",
    "    Параметры:\n",
    "    data (np.ndarray): Входные данные.\n",
    "    mu_0 (float): Среднее до разладки.\n",
    "    sigma (float): Стандартное отклонение.\n",
    "    h (float): Порог для сигнала тревоги.\n",
    "    window_size (int): Размер скользящего окна для оценки mu_1.\n",
    "    \n",
    "    Возвращает:\n",
    "    tau (int or None): Момент разладки (индекс) или None, если не обнаружена.\n",
    "    s_plus (np.ndarray): Статистика CUSUM для положительного сдвига.\n",
    "    s_minus (np.ndarray): Статистика CUSUM для отрицательного сдвига.\n",
    "    \"\"\"\n",
    "    n = len(data)\n",
    "    s_plus = np.zeros(n)\n",
    "    s_minus = np.zeros(n)\n",
    "    mu_hat = np.zeros(n)  # Оценки mu_1\n",
    "    \n",
    "    for i in range(n):\n",
    "        # Оценка mu_1 на основе скользящего окна\n",
    "        if i < window_size:\n",
    "            # Для первых window_size точек используем mu_0 или частичное окно\n",
    "            mu_hat[i] = np.mean(data[:i+1]) if i > 0 else mu_0\n",
    "        else:\n",
    "            mu_hat[i] = np.mean(data[i-window_size+1:i+1])\n",
    "        \n",
    "        # Вычисление k на основе текущей оценки mu_1\n",
    "        k = (mu_hat[i] - mu_0) / 2\n",
    "        \n",
    "        # Обновление статистик CUSUM\n",
    "        if i > 0:\n",
    "            s_plus[i] = max(0, s_plus[i-1] + (data[i] - mu_0 - k))\n",
    "            s_minus[i] = min(0, s_minus[i-1] + (data[i] - mu_0 + k))\n",
    "        \n",
    "        # Проверка на превышение порога\n",
    "        if i >= window_size and (s_plus[i] >= h or -s_minus[i] >= h):\n",
    "            return i, s_plus, s_minus\n",
    "    \n",
    "    return None, s_plus, s_minus"
   ]
  },
  {
   "cell_type": "code",
   "execution_count": null,
   "metadata": {},
   "outputs": [],
   "source": [
    "window_size = 20\n",
    "\n",
    "tau, s_plus, s_minus = modified_cusum(data, mu_0=mu_0, sigma=sigma, h=h, window_size=window_size)\n",
    "\n",
    "plt.figure(figsize=(12, 8))"
   ]
  },
  {
   "cell_type": "code",
   "execution_count": null,
   "metadata": {},
   "outputs": [],
   "source": [
    "plt.subplot(2, 1, 1)\n",
    "plt.plot(timestamps, data, label=\"Данные\")\n",
    "if tau is not None:\n",
    "    plt.axvline(x=tau, color='g', linestyle='--', label=f\"Обнаружена разладка (τ={tau})\")\n",
    "plt.axvline(x=theta, color='r', linestyle='--', label=f\"Истинная разладка (θ={theta})\")\n",
    "plt.xlabel(\"Время\")\n",
    "plt.ylabel(\"Значение\")\n",
    "plt.title(\"Синтетические данные с разладкой\")\n",
    "plt.legend()"
   ]
  },
  {
   "cell_type": "code",
   "execution_count": null,
   "metadata": {},
   "outputs": [],
   "source": [
    "plt.subplot(2, 1, 2)\n",
    "plt.plot(timestamps, s_plus, label=\"S⁺ (положительный сдвиг)\")\n",
    "plt.plot(timestamps, -s_minus, label=\"−S⁻ (отрицательный сдвиг)\")\n",
    "plt.axhline(y=h, color='k', linestyle='--', label=f\"Порог h={h}\")\n",
    "if tau is not None:\n",
    "    plt.axvline(x=tau, color='g', linestyle='--', label=f\"Обнаружена разладка (τ={tau})\")\n",
    "plt.xlabel(\"Время\")\n",
    "plt.ylabel(\"Статистика CUSUM\")\n",
    "plt.title(\"Модифицированные статистики CUSUM (неизвестное μ₁)\")\n",
    "plt.legend()\n",
    "\n",
    "plt.tight_layout()\n",
    "plt.savefig(\"modified_cusum.png\")\n",
    "plt.close()"
   ]
  },
  {
   "cell_type": "code",
   "execution_count": null,
   "metadata": {},
   "outputs": [],
   "source": [
    "if tau is not None:\n",
    "    print(f\"Сигнал тревоги подан в момент τ = {tau}\")\n",
    "else:\n",
    "    print(\"Разладка не обнаружена.\")"
   ]
  },
  {
   "cell_type": "markdown",
   "metadata": {},
   "source": [
    "**Задание 2.** Реализуйте процедуру оценивания среднего значения временного ряда с помощью скользящего среднего. Постройте статистику кумулятивных сумм для обнаружения разладки в среднем значении процесса $X_n$. В какой момент $\\tau$ следует подавать сигнал тревоги об обнаружении разладки?"
   ]
  },
  {
   "cell_type": "code",
   "execution_count": null,
   "metadata": {},
   "outputs": [],
   "source": [
    "def moving_average(data, window_size):\n",
    "    \"\"\"\n",
    "    Вычисляет скользящее среднее для временного ряда.\n",
    "    \n",
    "    Параметры:\n",
    "    data (np.ndarray): Входные данные.\n",
    "    window_size (int): Размер окна.\n",
    "    \n",
    "    Возвращает:\n",
    "    np.ndarray: Скользящее среднее для каждого момента времени.\n",
    "    \"\"\"\n",
    "    n = len(data)\n",
    "    ma = np.zeros(n)\n",
    "    for i in range(n):\n",
    "        if i < window_size:\n",
    "            ma[i] = np.mean(data[:i+1])  # Используем все доступные данные\n",
    "        else:\n",
    "            ma[i] = np.mean(data[i-window_size+1:i+1])\n",
    "    return ma\n",
    "\n",
    "def cusum_with_moving_average(data, window_size=20, h=5.0, k=0.5):\n",
    "    \"\"\"\n",
    "    CUSUM с использованием скользящего среднего для оценки mu_0.\n",
    "    \n",
    "    Параметры:\n",
    "    data (np.ndarray): Входные данные.\n",
    "    window_size (int): Размер окна для скользящего среднего.\n",
    "    h (float): Порог для сигнала тревоги.\n",
    "    k (float): Референсное значение (минимальный сдвиг).\n",
    "    \n",
    "    Возвращает:\n",
    "    tau (int or None): Момент разладки (индекс) или None, если не обнаружена.\n",
    "    s_plus (np.ndarray): Статистика CUSUM для положительного сдвига.\n",
    "    s_minus (np.ndarray): Статистика CUSUM для отрицательного сдвига.\n",
    "    mu_hat (np.ndarray): Оценки mu_0.\n",
    "    \"\"\"\n",
    "    n = len(data)\n",
    "    s_plus = np.zeros(n)\n",
    "    s_minus = np.zeros(n)\n",
    "    mu_hat = moving_average(data, window_size)  # Оценка mu_0\n",
    "    \n",
    "    for i in range(1, n):\n",
    "        # Обновление статистик CUSUM с использованием mu_hat как mu_0\n",
    "        s_plus[i] = max(0, s_plus[i-1] + (data[i] - mu_hat[i-1] - k))\n",
    "        s_minus[i] = min(0, s_minus[i-1] + (data[i] - mu_hat[i-1] + k))\n",
    "        \n",
    "        # Проверка на превышение порога\n",
    "        if i >= window_size and (s_plus[i] >= h or -s_minus[i] >= h):\n",
    "            return i, s_plus, s_minus, mu_hat\n",
    "    \n",
    "    return None, s_plus, s_minus, mu_hat"
   ]
  },
  {
   "cell_type": "code",
   "execution_count": null,
   "metadata": {},
   "outputs": [],
   "source": [
    "k = 0.5  # Минимальный сдвиг (mu_1 - mu_0 = 1)\n",
    "\n",
    "tau, s_plus, s_minus, mu_hat = cusum_with_moving_average(data, window_size=window_size, h=h, k=k)\n",
    "plt.figure(figsize=(12, 8))"
   ]
  },
  {
   "cell_type": "code",
   "execution_count": null,
   "metadata": {},
   "outputs": [],
   "source": [
    "plt.subplot(2, 1, 1)\n",
    "plt.plot(timestamps, data, label=\"Данные\")\n",
    "plt.plot(timestamps, mu_hat, color='orange', label=\"Скользящее среднее\")\n",
    "if tau is not None:\n",
    "    plt.axvline(x=tau, color='g', linestyle='--', label=f\"Обнаружена разладка (τ={tau})\")\n",
    "plt.axvline(x=theta, color='r', linestyle='--', label=f\"Истинная разладка (θ={theta})\")\n",
    "plt.xlabel(\"Время\")\n",
    "plt.ylabel(\"Значение\")\n",
    "plt.title(\"Данные и скользящее среднее\")\n",
    "plt.legend()"
   ]
  },
  {
   "cell_type": "code",
   "execution_count": null,
   "metadata": {},
   "outputs": [],
   "source": [
    "plt.subplot(2, 1, 2)\n",
    "plt.plot(timestamps, s_plus, label=\"S⁺ (положительный сдвиг)\")\n",
    "plt.plot(timestamps, -s_minus, label=\"−S⁻ (отрицательный сдвиг)\")\n",
    "plt.axhline(y=h, color='k', linestyle='--', label=f\"Порог h={h}\")\n",
    "if tau is not None:\n",
    "    plt.axvline(x=tau, color='g', linestyle='--', label=f\"Обнаружена разладка (τ={tau})\")\n",
    "plt.xlabel(\"Время\")\n",
    "plt.ylabel(\"Статистика CUSUM\")\n",
    "plt.title(\"Статистики CUSUM с скользящим средним\")\n",
    "plt.legend()\n",
    "\n",
    "plt.tight_layout()\n",
    "plt.savefig(\"cusum_with_moving_average.png\")\n",
    "plt.close()"
   ]
  },
  {
   "cell_type": "code",
   "execution_count": null,
   "metadata": {},
   "outputs": [],
   "source": [
    "if tau is not None:\n",
    "    print(f\"Сигнал тревоги подан в момент τ = {tau}\")\n",
    "else:\n",
    "    print(\"Разладка не обнаружена.\")"
   ]
  },
  {
   "cell_type": "markdown",
   "metadata": {},
   "source": [
    "**Задание 3.** Постройте статистику Ширяева-Робертса для обнаружения разладки в дисперсии временного ряда.\n",
    "\n",
    "Данные $X_1, \\ldots, X_n$ порождены нормальным $\\mathcal{N}(0, \\sigma^2_{\\infty})$ распределением до момента появления разладки, и нормальным $\\mathcal{N}(0, \\sigma^2_{0})$ распределением после момента появления разладки. Момент разладки $\\theta$ -- неизвестная величина."
   ]
  },
  {
   "cell_type": "markdown",
   "metadata": {},
   "source": [
    "**Статистика Ширяева-Робертса**:\n",
    "   - Статистика SR предназначена для обнаружения изменений в распределении, основываясь на предположении, что разладка может произойти в любой момент $k = 1, 2, \\dots, n$.\n",
    "   - Для каждого наблюдения $X_n$, статистика SR $R_n$ вычисляется как сумма отношений правдоподобия для всех возможных моментов разладки:\n",
    "     $$\n",
    "     R_n = \\sum_{k=1}^n \\prod_{i=k}^n \\frac{f(X_i | \\sigma_0^2)}{f(X_i | \\sigma_\\infty^2)},\n",
    "     $$\n",
    "     где $f(X_i | \\sigma^2) = \\frac{1}{\\sqrt{2\\pi \\sigma^2}} \\exp\\left(-\\frac{X_i^2}{2\\sigma^2}\\right)$ — плотность нормального распределения $\\mathcal{N}(0, \\sigma^2)$.\n",
    "   - Отношение правдоподобия для наблюдения $X_i$:\n",
    "     $$\n",
    "     \\frac{f(X_i | \\sigma_0^2)}{f(X_i | \\sigma_\\infty^2)} = \\frac{\\frac{1}{\\sqrt{2\\pi \\sigma_0^2}} \\exp\\left(-\\frac{X_i^2}{2\\sigma_0^2}\\right)}{\\frac{1}{\\sqrt{2\\pi \\sigma_\\infty^2}} \\exp\\left(-\\frac{X_i^2}{2\\sigma_\\infty^2}\\right)} = \\sqrt{\\frac{\\sigma_\\infty^2}{\\sigma_0^2}} \\exp\\left(\\frac{X_i^2}{2} \\left( \\frac{1}{\\sigma_\\infty^2} - \\frac{1}{\\sigma_0^2} \\right)\\right).\n",
    "     $$\n",
    "   - Рекуррентная форма SR статистики:\n",
    "     $$\n",
    "     R_n = (1 + R_{n-1}) \\cdot \\frac{f(X_n | \\sigma_0^2)}{f(X_n | \\sigma_\\infty^2)}, \\quad R_0 = 0.\n",
    "     $$\n",
    "   - Сигнал тревоги подается в момент $\\tau$, когда $R_n \\geq h$, где $h$ — порог.\n",
    "\n",
    "**Особенности**:\n",
    "   - Если $\\sigma_0^2 > \\sigma_\\infty^2$, дисперсия увеличивается после разладки, и статистика SR будет расти при больших значениях $X_n^2$.\n",
    "   - Если $\\sigma_0^2 < \\sigma_\\infty^2$, дисперсия уменьшается, и статистика реагирует на меньшие $X_n^2$.\n",
    "   - Порог $h$ определяет чувствительность обнаружения.\n",
    "\n",
    "**Функция `shiryaev_roberts`**:\n",
    "   - Принимает данные, $\\sigma_\\infty$, $\\sigma_0$, и порог $h$.\n",
    "   - Вычисляет отношение правдоподобия для каждого $X_n$:\n",
    "     $$\n",
    "     \\frac{f(X_n | \\sigma_0^2)}{f(X_n | \\sigma_\\infty^2)} = \\sqrt{\\frac{\\sigma_\\infty^2}{\\sigma_0^2}} \\exp\\left(\\frac{X_n^2}{2} \\left( \\frac{1}{\\sigma_\\infty^2} - \\frac{1}{\\sigma_0^2} \\right)\\right).\n",
    "     $$\n",
    "   - Обновляет статистику $R_n$ рекуррентно: $R_n = (1 + R_{n-1}) \\cdot \\text{LR}_n$.\n",
    "   - Возвращает $\\tau$ (первый индекс, где $R_n \\geq h$) и массив $R_n$."
   ]
  },
  {
   "cell_type": "code",
   "execution_count": null,
   "metadata": {},
   "outputs": [],
   "source": [
    "def shiryaev_roberts(data, sigma_inf=1.0, sigma_0=2.0, h=1000.0):\n",
    "    \"\"\"\n",
    "    Статистика Ширяева-Робертса для обнаружения разладки в дисперсии.\n",
    "    \n",
    "    Параметры:\n",
    "    data (np.ndarray): Входные данные.\n",
    "    sigma_inf (float): Стандартное отклонение до разладки (sqrt(sigma_inf^2)).\n",
    "    sigma_0 (float): Стандартное отклонение после разладки (sqrt(sigma_0^2)).\n",
    "    h (float): Порог для сигнала тревоги.\n",
    "    \n",
    "    Возвращает:\n",
    "    tau (int or None): Момент разладки (индекс) или None, если не обнаружена.\n",
    "    R (np.ndarray): Статистика SR для каждого момента времени.\n",
    "    \"\"\"\n",
    "    n = len(data)\n",
    "    R = np.zeros(n)\n",
    "    R[0] = 0\n",
    "    \n",
    "    # Квадраты дисперсий\n",
    "    var_inf = sigma_inf**2\n",
    "    var_0 = sigma_0**2\n",
    "    \n",
    "    for i in range(1, n):\n",
    "        # Отношение правдоподобия\n",
    "        lr = np.sqrt(var_inf / var_0) * np.exp(0.5 * data[i]**2 * (1/var_inf - 1/var_0))\n",
    "        # Рекуррентное обновление R_n\n",
    "        R[i] = (1 + R[i-1]) * lr\n",
    "        \n",
    "        # Проверка на превышение порога\n",
    "        if R[i] >= h:\n",
    "            return i, R\n",
    "    \n",
    "    return None, R"
   ]
  },
  {
   "cell_type": "code",
   "execution_count": null,
   "metadata": {},
   "outputs": [],
   "source": [
    "sigma_inf = 1.0  # До разладки\n",
    "sigma_0 = 2.0   # После разладки\n",
    "\n",
    "data = np.concatenate([\n",
    "    np.random.normal(0, sigma_inf, theta),\n",
    "    np.random.normal(0, sigma_0, n - theta)\n",
    "])\n",
    "timestamps = np.arange(n)\n",
    "\n",
    "tau, R = shiryaev_roberts(data, sigma_inf=sigma_inf, sigma_0=sigma_0, h=h)\n",
    "plt.figure(figsize=(12, 8))"
   ]
  },
  {
   "cell_type": "code",
   "execution_count": null,
   "metadata": {},
   "outputs": [],
   "source": [
    "plt.subplot(2, 1, 1)\n",
    "plt.plot(timestamps, data, label=\"Данные\")\n",
    "if tau is not None:\n",
    "    plt.axvline(x=tau, color='g', linestyle='--', label=f\"Обнаружена разладка (τ={tau})\")\n",
    "plt.axvline(x=theta, color='r', linestyle='--', label=f\"Истинная разладка (θ={theta})\")\n",
    "plt.xlabel(\"Время\")\n",
    "plt.ylabel(\"Значение\")\n",
    "plt.title(\"Синтетические данные с разладкой в дисперсии\")\n",
    "plt.legend()"
   ]
  },
  {
   "cell_type": "code",
   "execution_count": null,
   "metadata": {},
   "outputs": [],
   "source": [
    "plt.subplot(2, 1, 2)\n",
    "plt.plot(timestamps, R, label=\"Статистика Ширяева-Робертса\")\n",
    "plt.axhline(y=h, color='k', linestyle='--', label=f\"Порог h={h}\")\n",
    "if tau is not None:\n",
    "    plt.axvline(x=tau, color='g', linestyle='--', label=f\"Обнаружена разладка (τ={tau})\")\n",
    "plt.xlabel(\"Время\")\n",
    "plt.ylabel(\"R_n\")\n",
    "plt.title(\"Статистика Ширяева-Робертса\")\n",
    "plt.legend()\n",
    "\n",
    "plt.tight_layout()\n",
    "plt.savefig(\"shiryaev_roberts_variance.png\")\n",
    "plt.close()"
   ]
  },
  {
   "cell_type": "code",
   "execution_count": null,
   "metadata": {},
   "outputs": [],
   "source": [
    "if tau is not None:\n",
    "    print(f\"Сигнал тревоги подан в момент τ = {tau}\")\n",
    "else:\n",
    "    print(\"Разладка не обнаружена.\")"
   ]
  },
  {
   "cell_type": "markdown",
   "metadata": {},
   "source": [
    "**Задание 4.** Модифицируйте процедуру обнаружения разладки с помощью статистики Ширяева-Робертса для обнаружения разладки в дисперсии временного ряда, заданного данными из файлов. Подсказка: постройте вначале процедуру оценивания значения дисперсии до момента разладки, а затем воспользуйтесь идеей из Задания 1."
   ]
  },
  {
   "cell_type": "code",
   "execution_count": 14,
   "metadata": {},
   "outputs": [],
   "source": [
    "with open('seminar_var.train_data') as f:\n",
    "    data_var, changepoint_var, targets_var = read_simple_dataset(f, keep_target=True)"
   ]
  },
  {
   "cell_type": "code",
   "execution_count": 15,
   "metadata": {},
   "outputs": [
    {
     "data": {
      "text/plain": [
       "[<matplotlib.lines.Line2D at 0x1117c7110>]"
      ]
     },
     "execution_count": 15,
     "metadata": {},
     "output_type": "execute_result"
    },
    {
     "data": {
      "image/png": "[encoded data removed]",
      "text/plain": [
       "<matplotlib.figure.Figure at 0x1117c7150>"
      ]
     },
     "metadata": {},
     "output_type": "display_data"
    }
   ],
   "source": [
    "timestamps, values, changepoint = [], [], []\n",
    "for (ts, value), cp_indicator in izip(data_var[0], targets_var[0]):\n",
    "    timestamps.append(ts)\n",
    "    values.append(value)\n",
    "    changepoint.append(cp_indicator)\n",
    "plot(timestamps, values)\n",
    "plot(timestamps, changepoint, 'r', linewidth=3)"
   ]
  },
  {
   "cell_type": "markdown",
   "metadata": {},
   "source": [
    "В Задании 1 для неизвестного среднего после разладки ($\\mu_1$) использовалось скользящее окно для оценки $\\mu_1$. Здесь мы аналогично оцениваем $\\sigma_0^2$ через скользящее окно, чтобы адаптировать SR к неизвестной дисперсии после разладки.\n",
    "\n",
    "**Функция `modified_shiryaev_roberts`**:\n",
    "   - Оценивает $\\sigma_\\infty^2$ по первым $initial\\_samples = 50$ наблюдениям.\n",
    "   - Оценивает $\\sigma_0^2$ на каждом шаге через скользящее окно размера $window\\_size = 20$:\n",
    "     $$\n",
    "     \\hat{\\sigma}_{0,n}^2 = \\frac{1}{window\\_size}\\sum_{i=n-window\\_size+1}^n X_i^2\n",
    "     $$\n",
    "   - Вычисляет отношение правдоподобия, используя оценки дисперсий:\n",
    "     $$\n",
    "     \\frac{f(X_n | \\hat{\\sigma}_{0,n}^2)}{f(X_n | \\hat{\\sigma}_\\infty^2)} = \\sqrt{\\frac{\\hat{\\sigma}_\\infty^2}{\\hat{\\sigma}_{0,n}^2}} \\exp\\left(\\frac{X_n^2}{2} \\left( \\frac{1}{\\hat{\\sigma}_\\infty^2} - \\frac{1}{\\hat{\\sigma}_{0,n}^2} \\right)\\right).\n",
    "     $$\n",
    "   - Обновляет статистику $R_n$ рекуррентно:\n",
    "     $$\n",
    "     R_n = (1 + R_{n-1}) \\cdot \\frac{f(X_n | \\hat{\\sigma}_{0,n}^2)}{f(X_n | \\hat{\\sigma}_\\infty^2)}, \\quad R_0 = 0.\n",
    "     $$\n",
    "   - Возвращает:\n",
    "     - $\\tau$ - первый индекс, где $R_n \\geq h$\n",
    "     - $R_n$ - массив значений статистики\n",
    "     - $\\hat{\\sigma}_{0,n}^2$ - массив оценок дисперсии"
   ]
  },
  {
   "cell_type": "code",
   "execution_count": null,
   "metadata": {},
   "outputs": [],
   "source": [
    "def estimate_variance(data, window_size, start_idx=0, end_idx=None):\n",
    "    \"\"\"\n",
    "    Оценивает дисперсию по скользящему окну или для заданного диапазона.\n",
    "    \n",
    "    Параметры:\n",
    "    data (np.ndarray): Входные данные.\n",
    "    window_size (int): Размер окна (если end_idx=None).\n",
    "    start_idx (int): Начальный индекс (для фиксированного диапазона).\n",
    "    end_idx (int): Конечный индекс (для фиксированного диапазона).\n",
    "    \n",
    "    Возвращает:\n",
    "    np.ndarray или float: Оценки дисперсии.\n",
    "    \"\"\"\n",
    "    if end_idx is not None:\n",
    "        # Оценка для фиксированного диапазона\n",
    "        segment = data[start_idx:end_idx]\n",
    "        mean = np.mean(segment)\n",
    "        return np.var(segment, ddof=1) if len(segment) > 1 else 1.0\n",
    "    \n",
    "    # Скользящее окно\n",
    "    n = len(data)\n",
    "    variances = np.zeros(n)\n",
    "    for i in range(n):\n",
    "        if i < window_size:\n",
    "            segment = data[:i+1]\n",
    "        else:\n",
    "            segment = data[i-window_size+1:i+1]\n",
    "        mean = np.mean(segment)\n",
    "        variances[i] = np.var(segment, ddof=1) if len(segment) > 1 else 1.0\n",
    "    return variances\n",
    "\n",
    "def modified_shiryaev_roberts(data, sigma_inf=None, window_size=20, h=1000.0, initial_samples=50):\n",
    "    \"\"\"\n",
    "    Модифицированная статистика Ширяева-Робертса для неизвестной дисперсии после разладки.\n",
    "    \n",
    "    Параметры:\n",
    "    data (np.ndarray): Входные данные.\n",
    "    sigma_inf (float): Стандартное отклонение до разладки (если None, оценивается).\n",
    "    window_size (int): Размер окна для оценки sigma_0^2.\n",
    "    h (float): Порог для сигнала тревоги.\n",
    "    initial_samples (int): Количество начальных наблюдений для оценки sigma_inf^2.\n",
    "    \n",
    "    Возвращает:\n",
    "    tau (int or None): Момент разладки.\n",
    "    R (np.ndarray): Статистика SR.\n",
    "    var_0_hat (np.ndarray): Оценки sigma_0^2.\n",
    "    \"\"\"\n",
    "    n = len(data)\n",
    "    R = np.zeros(n)\n",
    "    R[0] = 0\n",
    "    \n",
    "    # Оценка sigma_inf^2 из начальных initial_samples наблюдений\n",
    "    if sigma_inf is None:\n",
    "        var_inf = estimate_variance(data, window_size, start_idx=0, end_idx=initial_samples)\n",
    "        sigma_inf = np.sqrt(var_inf) if var_inf > 0 else 1.0\n",
    "    var_inf = sigma_inf**2\n",
    "    \n",
    "    # Оценка sigma_0^2 по скользящему окну\n",
    "    var_0_hat = estimate_variance(data, window_size)\n",
    "    \n",
    "    for i in range(1, n):\n",
    "        # Отношение правдоподобия с оценками дисперсий\n",
    "        var_0 = var_0_hat[i] if var_0_hat[i] > 0 else 1.0  # Избегаем деления на 0\n",
    "        lr = np.sqrt(var_inf / var_0) * np.exp(0.5 * data[i]**2 * (1/var_inf - 1/var_0))\n",
    "        # Рекуррентное обновление R_n\n",
    "        R[i] = (1 + R[i-1]) * lr\n",
    "        \n",
    "        # Проверка на превышение порога\n",
    "        if i >= window_size and R[i] >= h:\n",
    "            return i, R, var_0_hat\n",
    "    \n",
    "    return None, R, var_0_hat"
   ]
  },
  {
   "cell_type": "code",
   "execution_count": null,
   "metadata": {},
   "outputs": [],
   "source": [
    "initial_samples = 50\n",
    "\n",
    "tau, R, var_0_hat = modified_shiryaev_roberts(\n",
    "    data, sigma_inf=None, window_size=window_size, h=h, initial_samples=initial_samples\n",
    ")\n",
    "plt.figure(figsize=(12, 8))"
   ]
  },
  {
   "cell_type": "code",
   "execution_count": null,
   "metadata": {},
   "outputs": [],
   "source": [
    "plt.subplot(2, 1, 1)\n",
    "plt.plot(timestamps, data, label=\"Данные\")\n",
    "plt.plot(timestamps, changepoint, 'r', linewidth=3, label=\"Истинная разладка\")\n",
    "if tau is not None:\n",
    "    plt.axvline(x=tau, color='g', linestyle='--', label=f\"Обнаружена разладка (τ={tau})\")\n",
    "plt.xlabel(\"Время\")\n",
    "plt.ylabel(\"Значение\")\n",
    "plt.title(\"Данные с разладкой в дисперсии\")\n",
    "plt.legend()"
   ]
  },
  {
   "cell_type": "code",
   "execution_count": null,
   "metadata": {},
   "outputs": [],
   "source": [
    "plt.subplot(2, 1, 2)\n",
    "plt.plot(timestamps, R, label=\"Статистика Ширяева-Робертса\")\n",
    "plt.axhline(y=h, color='k', linestyle='--', label=f\"Порог h={h}\")\n",
    "if tau is not None:\n",
    "    plt.axvline(x=tau, color='g', linestyle='--', label=f\"Обнаружена разладка (τ={tau})\")\n",
    "plt.xlabel(\"Время\")\n",
    "plt.ylabel(\"R_n\")\n",
    "plt.title(\"Модифицированная статистика Ширяева-Робертса\")\n",
    "plt.legend()\n",
    "plt.tight_layout()\n"
   ]
  },
  {
   "cell_type": "code",
   "execution_count": null,
   "metadata": {},
   "outputs": [],
   "source": [
    "if tau is not None:\n",
    "    print(f\"Сигнал тревоги подан в момент τ = {tau}\")\n",
    "else:\n",
    "    print(\"Разладка не обнаружена.\")"
   ]
  }
 ],
 "metadata": {
  "kernelspec": {
   "display_name": "Python 3",
   "language": "python",
   "name": "python3"
  },
  "language_info": {
   "codemirror_mode": {
    "name": "ipython",
    "version": 3
   },
   "file_extension": ".py",
   "mimetype": "text/x-python",
   "name": "python",
   "nbconvert_exporter": "python",
   "pygments_lexer": "ipython3",
   "version": "3.7.1"
  }
 },
 "nbformat": 4,
 "nbformat_minor": 2
}
